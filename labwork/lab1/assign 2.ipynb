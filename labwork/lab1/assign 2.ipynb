{
 "cells": [
  {
   "cell_type": "code",
   "execution_count": 2,
   "metadata": {},
   "outputs": [
    {
     "name": "stdout",
     "output_type": "stream",
     "text": [
      "3\n",
      "3\n",
      "216\n"
     ]
    }
   ],
   "source": [
    "import tensorflow as tf\n",
    "tf.reset_default_graph()\n",
    "a=int(input())\n",
    "b=int(input())\n",
    "with tf.name_scope(\"Split\"):\n",
    "    with tf.name_scope(\"Cube\"):\n",
    "        x=tf.multiply(a, a,)\n",
    "        y=tf.multiply(x, a,)\n",
    "        c=tf.multiply(b, b,)\n",
    "        d=tf.multiply(c, b,)\n",
    "    with tf.name_scope(\"3AB\"):\n",
    "        e=tf.multiply(3, a,)\n",
    "        f=tf.multiply(e, b,)\n",
    "with tf.name_scope(\"Final\"):\n",
    "    g=tf.add(a, b,)\n",
    "    h=tf.multiply(f, g,)\n",
    "    i=tf.add(y, d,)\n",
    "    j=tf.add(i, h,)\n",
    "\n",
    "with tf.Session() as sess:\n",
    "    writer = tf.summary.FileWriter(\"/tmp/tboard/output\", sess.graph)\n",
    "    print(sess.run(j))\n",
    "    writer.close()"
   ]
  },
  {
   "cell_type": "code",
   "execution_count": null,
   "metadata": {
    "collapsed": true
   },
   "outputs": [],
   "source": []
  }
 ],
 "metadata": {
  "kernelspec": {
   "display_name": "Python 3",
   "language": "python",
   "name": "python3"
  },
  "language_info": {
   "codemirror_mode": {
    "name": "ipython",
    "version": 3
   },
   "file_extension": ".py",
   "mimetype": "text/x-python",
   "name": "python",
   "nbconvert_exporter": "python",
   "pygments_lexer": "ipython3",
   "version": "3.6.1"
  }
 },
 "nbformat": 4,
 "nbformat_minor": 2
}
